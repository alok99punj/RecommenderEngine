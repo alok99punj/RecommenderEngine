{
 "cells": [
  {
   "cell_type": "code",
   "execution_count": 1,
   "id": "3fa60af5",
   "metadata": {},
   "outputs": [],
   "source": [
    "# an algorithm to implement a recommendation engine using the content based recommender method \n",
    "# retrieving the dataset using pandas \n",
    "import pandas as pd \n",
    "import numpy as np \n",
    "import matplotlib.pyplot as plt \n",
    "\n",
    "\n"
   ]
  },
  {
   "cell_type": "code",
   "execution_count": null,
   "id": "d27a316f",
   "metadata": {},
   "outputs": [],
   "source": [
    "# import required modules\n",
    "import zipfile\n",
    "import pandas as pd\n",
    "\n",
    "# read the dataset using the compression zip\n",
    "df = pd.read_csv('test.zip',compression='zip')\n",
    "\n",
    "# display dataset\n",
    "print(df.head())\n",
    "\n",
    "\n",
    "\n",
    "\n",
    "\n"
   ]
  },
  {
   "cell_type": "code",
   "execution_count": null,
   "id": "8f8fa33e",
   "metadata": {},
   "outputs": [],
   "source": [
    "#Dataframe manipulation library\n",
    "import pandas as pd\n",
    "#Math functions, we'll only need the sqrt function so let's import only that\n",
    "from math import sqrt\n",
    "import numpy as np\n",
    "import matplotlib.pyplot as plt\n",
    "%matplotlib inline"
   ]
  },
  {
   "cell_type": "code",
   "execution_count": null,
   "id": "3b52382d",
   "metadata": {},
   "outputs": [],
   "source": [
    "#Storing the movie information into a pandas dataframe\n",
    "movies_df = pd.read_csv('movies.csv')\n",
    "#Storing the user information into a pandas dataframe\n",
    "ratings_df = pd.read_csv('ratings.csv')\n",
    "#Head is a function that gets the first N rows of a dataframe. N's default is 5.\n",
    "movies_df.head()"
   ]
  },
  {
   "cell_type": "code",
   "execution_count": null,
   "id": "c677d9b7",
   "metadata": {},
   "outputs": [],
   "source": [
    "#Using regular expressions to find a year stored between parentheses\n",
    "#We specify the parantheses so we don't conflict with movies that have years in their titles\n",
    "movies_df['year'] = movies_df.title.str.extract('(\\(\\d\\d\\d\\d\\))',expand=False)\n",
    "#Removing the parentheses\n",
    "movies_df['year'] = movies_df.year.str.extract('(\\d\\d\\d\\d)',expand=False)\n",
    "#Removing the years from the 'title' column\n",
    "movies_df['title'] = movies_df.title.str.replace('(\\(\\d\\d\\d\\d\\))', '')\n",
    "#Applying the strip function to get rid of any ending whitespace characters that may have appeared\n",
    "movies_df['title'] = movies_df['title'].apply(lambda x: x.strip())\n",
    "movies_df.head()"
   ]
  },
  {
   "cell_type": "code",
   "execution_count": null,
   "id": "4209dc49",
   "metadata": {},
   "outputs": [],
   "source": [
    "#Every genre is separated by a | so we simply have to call the split function on |\n",
    "movies_df['genres'] = movies_df.genres.str.split('|')\n",
    "movies_df.head()"
   ]
  },
  {
   "cell_type": "code",
   "execution_count": null,
   "id": "f61f8067",
   "metadata": {},
   "outputs": [],
   "source": [
    "#Copying the movie dataframe into a new one since we won't need to use the genre information in our first case.\n",
    "moviesWithGenres_df = movies_df.copy()\n",
    "\n",
    "#For every row in the dataframe, iterate through the list of genres and place a 1 into the corresponding column\n",
    "for index, row in movies_df.iterrows():\n",
    "    for genre in row['genres']:\n",
    "        moviesWithGenres_df.at[index, \n",
    "                                     genre] = int(1)\n",
    "       \n",
    "#Filling in the NaN values with 0 to show that a movie doesn't have that column's genre\n",
    "moviesWithGenres_df = moviesWithGenres_df.fillna(0)\n",
    "moviesWithGenres_df.head()"
   ]
  },
  {
   "cell_type": "code",
   "execution_count": null,
   "id": "bcb8c212",
   "metadata": {},
   "outputs": [],
   "source": [
    "#Drop removes a specified row or column from a dataframe\n",
    "ratings_df = ratings_df.drop('timestamp', 1)\n",
    "ratings_df.head()"
   ]
  },
  {
   "cell_type": "code",
   "execution_count": null,
   "id": "2c259082",
   "metadata": {},
   "outputs": [],
   "source": [
    "userInput = [\n",
    "            {'title':'Breakfast Club, The', 'rating':5},\n",
    "            {'title':'Toy Story', 'rating':3.5},\n",
    "            {'title':'Jumanji', 'rating':2},\n",
    "            {'title':\"Pulp Fiction\", 'rating':5},\n",
    "            {'title':'Akira', 'rating':4.5}\n",
    "         ] \n",
    "inputMovies = pd.DataFrame(userInput)\n",
    "inputMovies\n",
    "#Filtering out the movies from the input\n",
    "userMovies = moviesWithGenres_df[moviesWithGenres_df['movieId'].isin(inputMovies['movieId'].tolist())]\n",
    "userMovies\n",
    "#Resetting the index to avoid future issues\n",
    "userMovies = userMovies.reset_index(drop=True)\n",
    "#Dropping unnecessary issues due to save memory and to avoid issues\n",
    "userGenreTable = userMovies.drop('movieId', 1).drop('title', 1).drop('genres', 1).drop('year', 1)\n",
    "userGenreTable\n",
    "inputMovies['rating']\n",
    "#Dot produt to get weights\n",
    "userProfile = userGenreTable.transpose().dot(inputMovies['rating'])\n",
    "#The user profile\n",
    "userProfile\n",
    "#Now let's get the genres of every movie in our original dataframe\n",
    "genreTable = moviesWithGenres_df.set_index(moviesWithGenres_df['movieId'])\n",
    "#And drop the unnecessary information\n",
    "genreTable = genreTable.drop('movieId', 1).drop('title', 1).drop('genres', 1).drop('year', 1)\n",
    "genreTable.head()\n",
    "#Multiply the genres by the weights and then take the weighted average\n",
    "recommendationTable_df = ((genreTable*userProfile).sum(axis=1))/(userProfile.sum())\n",
    "recommendationTable_df.head()\n",
    "#Sort our recommendations in descending order\n",
    "recommendationTable_df = recommendationTable_df.sort_values(ascending=False)\n",
    "#Just a peek at the values\n",
    "recommendationTable_df.head()"
   ]
  },
  {
   "cell_type": "code",
   "execution_count": null,
   "id": "3ce56689",
   "metadata": {},
   "outputs": [],
   "source": [
    "#The final recommendation table\n",
    "movies_df.loc[movies_df['movieId'].isin(recommendationTable_df.head(20).keys())]"
   ]
  },
  {
   "cell_type": "code",
   "execution_count": null,
   "id": "3af534ec",
   "metadata": {},
   "outputs": [],
   "source": []
  }
 ],
 "metadata": {
  "kernelspec": {
   "display_name": "Python 3.9.7 64-bit ('base': conda)",
   "language": "python",
   "name": "python397jvsc74a57bd016d6c166962e8c042f37bd800f35d0f4e43ec0f2ec5782d141da8a5b02bd5435"
  },
  "language_info": {
   "codemirror_mode": {
    "name": "ipython",
    "version": 3
   },
   "file_extension": ".py",
   "mimetype": "text/x-python",
   "name": "python",
   "nbconvert_exporter": "python",
   "pygments_lexer": "ipython3",
   "version": "3.9.7"
  }
 },
 "nbformat": 4,
 "nbformat_minor": 5
}
